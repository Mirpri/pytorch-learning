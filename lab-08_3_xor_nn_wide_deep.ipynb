{
 "cells": [
  {
   "cell_type": "markdown",
   "metadata": {},
   "source": [
    "# Lab 8_3 XOR nn wide deep"
   ]
  },
  {
   "cell_type": "code",
   "execution_count": 1,
   "metadata": {},
   "outputs": [],
   "source": [
    "import torch"
   ]
  },
  {
   "cell_type": "code",
   "execution_count": 2,
   "metadata": {},
   "outputs": [],
   "source": [
    "device = 'cuda' if torch.cuda.is_available() else 'cpu'\n",
    "\n",
    "# for reproducibility\n",
    "torch.manual_seed(777)\n",
    "if device == 'cuda':\n",
    "    torch.cuda.manual_seed_all(777)"
   ]
  },
  {
   "cell_type": "code",
   "execution_count": 3,
   "metadata": {},
   "outputs": [],
   "source": [
    "X = torch.FloatTensor([[0, 0], [0, 1], [1, 0], [1, 1]]).to(device)\n",
    "Y = torch.FloatTensor([[0], [1], [1], [0]]).to(device)"
   ]
  },
  {
   "cell_type": "code",
   "execution_count": 4,
   "metadata": {},
   "outputs": [],
   "source": [
    "# nn layers\n",
    "linear1 = torch.nn.Linear(2, 10, bias=True)\n",
    "linear2 = torch.nn.Linear(10, 10, bias=True)\n",
    "linear3 = torch.nn.Linear(10, 10, bias=True)\n",
    "linear4 = torch.nn.Linear(10, 1, bias=True)\n",
    "sigmoid = torch.nn.Sigmoid()"
   ]
  },
  {
   "cell_type": "code",
   "execution_count": 5,
   "metadata": {},
   "outputs": [],
   "source": [
    "# model\n",
    "model = torch.nn.Sequential(linear1, sigmoid, linear2, sigmoid, linear3, sigmoid, linear4, sigmoid).to(device)"
   ]
  },
  {
   "cell_type": "code",
   "execution_count": 6,
   "metadata": {},
   "outputs": [],
   "source": [
    "# define cost/loss & optimizer\n",
    "criterion = torch.nn.BCELoss().to(device)\n",
    "optimizer = torch.optim.SGD(model.parameters(), lr=1)  # modified learning rate from 0.1 to 1"
   ]
  },
  {
   "cell_type": "code",
   "execution_count": 7,
   "metadata": {},
   "outputs": [
    {
     "name": "stdout",
     "output_type": "stream",
     "text": [
      "0 0.6948983073234558\n",
      "1000 0.6931379437446594\n",
      "2000 0.6931172609329224\n",
      "3000 0.6930763721466064\n",
      "4000 0.6929103136062622\n",
      "5000 0.6820826530456543\n",
      "6000 0.0013025215594097972\n",
      "7000 0.00048371264711022377\n",
      "8000 0.00028900461620651186\n",
      "9000 0.000203805640921928\n",
      "10000 0.00015652140427846462\n",
      "0.weight Parameter containing:\n",
      "tensor([[-1.3068, -0.6912],\n",
      "        [-0.4730, -0.5731],\n",
      "        [ 0.8907,  0.9915],\n",
      "        [ 0.5455,  0.2520],\n",
      "        [ 4.2752, -2.4747],\n",
      "        [ 0.0918,  0.8968],\n",
      "        [-1.3766,  2.9233],\n",
      "        [ 5.3368,  5.3779],\n",
      "        [ 1.7273, -3.1492],\n",
      "        [ 1.3786,  1.4404]], requires_grad=True)\n",
      "0.bias Parameter containing:\n",
      "tensor([ 1.0628, -0.3164, -1.0381, -0.7047,  0.9445,  0.1699,  0.5979, -1.7873,\n",
      "        -0.8449, -2.0285], requires_grad=True)\n",
      "2.weight Parameter containing:\n",
      "tensor([[-0.0255,  0.0708, -0.2011,  0.1645, -0.6262,  0.1004, -0.1564,  0.4924,\n",
      "          0.2369, -0.3744],\n",
      "        [-0.5618, -0.2137,  0.4969,  0.4157,  0.4048, -0.1931,  0.3538, -0.9960,\n",
      "         -0.4586,  0.4968],\n",
      "        [ 0.6970, -0.0635, -0.4885,  0.0442, -0.8958,  0.0671, -0.8596,  1.5508,\n",
      "          0.9264, -0.5664],\n",
      "        [-0.9030, -0.7306,  0.7912,  0.2421,  2.5490,  0.5817,  1.4364, -3.8076,\n",
      "         -1.5996,  1.4955],\n",
      "        [ 0.2832, -0.0083, -0.4044, -0.4227, -0.9745,  0.2128, -0.7044,  1.1885,\n",
      "          0.5228, -0.5450],\n",
      "        [ 0.4466, -0.2951, -0.2299, -0.2063, -2.0056, -0.8884, -1.2242,  3.6846,\n",
      "          1.2133, -0.5553],\n",
      "        [-0.5353, -0.3944,  0.2089,  0.2798,  0.5786,  0.1116,  0.3203, -0.3817,\n",
      "         -0.1577,  0.2687],\n",
      "        [-0.5733, -0.4809,  0.5387,  0.2176,  1.4535,  0.3115,  0.4810, -2.0439,\n",
      "         -1.0957,  0.9410],\n",
      "        [ 1.0226,  0.2855, -0.7912, -0.1685, -2.1907, -0.3569, -1.1575,  2.9388,\n",
      "          1.3371, -1.3761],\n",
      "        [ 0.2033,  0.3302, -0.1096, -0.1185, -1.0652, -0.4064, -0.8880,  2.0667,\n",
      "          0.8464, -0.4423]], requires_grad=True)\n",
      "2.bias Parameter containing:\n",
      "tensor([-0.3372,  0.1928, -0.4036, -0.0731,  0.0857, -0.3191, -0.3242,  0.1583,\n",
      "         0.2450, -0.4007], requires_grad=True)\n",
      "4.weight Parameter containing:\n",
      "tensor([[-0.1349,  0.9137, -1.1061,  2.9147, -0.9137, -2.4196,  0.5153,  1.5035,\n",
      "         -2.1070, -1.2066],\n",
      "        [-0.0806, -0.2261,  0.4758, -0.5041, -0.0380,  0.3857, -0.1664, -0.4477,\n",
      "          0.2845,  0.1915],\n",
      "        [ 0.1647, -0.3469,  1.0240, -2.6798,  0.6246,  2.1975, -0.5133, -1.8625,\n",
      "          1.9005,  1.0250],\n",
      "        [ 0.3426, -0.2743,  0.3878, -1.0935,  0.4554,  1.2298, -0.1483, -0.7609,\n",
      "          1.0422,  0.4099],\n",
      "        [ 0.2316, -0.7741,  0.4014, -2.0831,  0.7279,  1.6568, -0.4851, -0.9015,\n",
      "          1.6663,  1.0584],\n",
      "        [-0.4280,  0.0848, -0.2745,  0.8983, -0.0740, -0.5811, -0.2264,  0.4472,\n",
      "         -0.9030, -0.3083],\n",
      "        [-0.1263,  0.2955, -0.3342,  0.5977,  0.0726, -0.4002, -0.3059,  0.0993,\n",
      "         -0.3546, -0.5945],\n",
      "        [-0.3008,  0.6384, -0.7545,  1.3376, -0.5528, -1.0865,  0.4849,  0.5449,\n",
      "         -1.0588, -0.4978],\n",
      "        [-0.3590,  0.4410, -0.5644,  1.0511, -0.5535, -0.5386,  0.3269,  0.5516,\n",
      "         -0.7936, -0.4110],\n",
      "        [-0.4355,  0.1556, -0.6662,  0.9414, -0.5743, -0.6182,  0.2599,  0.5828,\n",
      "         -1.0370, -0.5965]], requires_grad=True)\n",
      "4.bias Parameter containing:\n",
      "tensor([ 0.5521, -0.1567, -0.3196, -0.4488, -0.3638,  0.1712, -0.2021,  0.2149,\n",
      "        -0.0700,  0.4668], requires_grad=True)\n",
      "6.weight Parameter containing:\n",
      "tensor([[-5.5422,  0.9508,  5.2426,  2.3680,  3.8930, -1.3297, -0.8199, -2.3481,\n",
      "         -1.6632, -1.8472]], requires_grad=True)\n",
      "6.bias Parameter containing:\n",
      "tensor([-0.0861], requires_grad=True)\n"
     ]
    }
   ],
   "source": [
    "for step in range(10001):\n",
    "    optimizer.zero_grad()\n",
    "    hypothesis = model(X)\n",
    "\n",
    "    # cost/loss function\n",
    "    cost = criterion(hypothesis, Y)\n",
    "    cost.backward()\n",
    "    optimizer.step()\n",
    "\n",
    "    if step % 1000 == 0:\n",
    "        print(step, cost.item())\n",
    "for name, param in model.named_parameters():\n",
    "    print(name, param)"
   ]
  },
  {
   "cell_type": "code",
   "execution_count": 8,
   "metadata": {},
   "outputs": [
    {
     "name": "stdout",
     "output_type": "stream",
     "text": [
      "\n",
      "Hypothesis:  [[1.1170164e-04]\n",
      " [9.9982882e-01]\n",
      " [9.9984229e-01]\n",
      " [1.8536496e-04]] \n",
      "Correct:  [[0.]\n",
      " [1.]\n",
      " [1.]\n",
      " [0.]] \n",
      "Accuracy:  1.0\n"
     ]
    }
   ],
   "source": [
    "# Accuracy computation\n",
    "# True if hypothesis>0.5 else False\n",
    "with torch.no_grad():\n",
    "    hypothesis = model(X)\n",
    "    predicted = (hypothesis > 0.5).float()\n",
    "    accuracy = (predicted == Y).float().mean()\n",
    "    print('\\nHypothesis: ', hypothesis.detach().cpu().numpy(), '\\nCorrect: ', predicted.detach().cpu().numpy(), '\\nAccuracy: ', accuracy.item())"
   ]
  }
 ],
 "metadata": {
  "kernelspec": {
   "display_name": "Python 3",
   "language": "python",
   "name": "python3"
  },
  "language_info": {
   "codemirror_mode": {
    "name": "ipython",
    "version": 3
   },
   "file_extension": ".py",
   "mimetype": "text/x-python",
   "name": "python",
   "nbconvert_exporter": "python",
   "pygments_lexer": "ipython3",
   "version": "3.12.3"
  }
 },
 "nbformat": 4,
 "nbformat_minor": 1
}
