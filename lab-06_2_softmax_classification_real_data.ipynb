{
 "cells": [
  {
   "cell_type": "markdown",
   "metadata": {},
   "source": [
    "# Lab 6-2: Softmax Classification with Real Data"
   ]
  },
  {
   "cell_type": "markdown",
   "metadata": {},
   "source": [
    "## Imports"
   ]
  },
  {
   "cell_type": "code",
   "execution_count": 1,
   "metadata": {},
   "outputs": [],
   "source": [
    "import numpy as np\n",
    "import torch\n",
    "import torch.nn as nn\n",
    "import torch.nn.functional as F\n",
    "import torch.optim as optim"
   ]
  },
  {
   "cell_type": "code",
   "execution_count": 2,
   "metadata": {},
   "outputs": [
    {
     "data": {
      "text/plain": [
       "<torch._C.Generator at 0x7fd197f999d0>"
      ]
     },
     "execution_count": 2,
     "metadata": {},
     "output_type": "execute_result"
    }
   ],
   "source": [
    "# For reproducibility\n",
    "torch.manual_seed(1)"
   ]
  },
  {
   "cell_type": "markdown",
   "metadata": {},
   "source": [
    "## Data"
   ]
  },
  {
   "cell_type": "code",
   "execution_count": 3,
   "metadata": {},
   "outputs": [],
   "source": [
    "xy = np.loadtxt('data-04-zoo.csv', delimiter=',', dtype=np.float32)"
   ]
  },
  {
   "cell_type": "code",
   "execution_count": 4,
   "metadata": {},
   "outputs": [],
   "source": [
    "x_train = torch.FloatTensor(xy[:, 0:-1])\n",
    "y_train = torch.LongTensor(xy[:, [-1]]).squeeze()"
   ]
  },
  {
   "cell_type": "code",
   "execution_count": 5,
   "metadata": {},
   "outputs": [
    {
     "name": "stdout",
     "output_type": "stream",
     "text": [
      "torch.Size([101, 16])\n",
      "tensor([[1., 0., 0., 1., 0., 0., 1., 1., 1., 1., 0., 0., 4., 0., 0., 1.],\n",
      "        [1., 0., 0., 1., 0., 0., 0., 1., 1., 1., 0., 0., 4., 1., 0., 1.],\n",
      "        [0., 0., 1., 0., 0., 1., 1., 1., 1., 0., 0., 1., 0., 1., 0., 0.],\n",
      "        [1., 0., 0., 1., 0., 0., 1., 1., 1., 1., 0., 0., 4., 0., 0., 1.],\n",
      "        [1., 0., 0., 1., 0., 0., 1., 1., 1., 1., 0., 0., 4., 1., 0., 1.]])\n"
     ]
    }
   ],
   "source": [
    "print(x_train.shape) # x_train shape\n",
    "print(x_train[:5])   # first 5 rows"
   ]
  },
  {
   "cell_type": "code",
   "execution_count": 6,
   "metadata": {},
   "outputs": [
    {
     "name": "stdout",
     "output_type": "stream",
     "text": [
      "torch.Size([101])\n",
      "tensor([0, 0, 3, 0, 0])\n"
     ]
    }
   ],
   "source": [
    "print(y_train.shape) # y_train shape\n",
    "print(y_train[:5])   # first 5 elements"
   ]
  },
  {
   "cell_type": "code",
   "execution_count": 7,
   "metadata": {},
   "outputs": [],
   "source": [
    "nb_classes = 7\n",
    "y_one_hot = torch.zeros((len(y_train), nb_classes))\n",
    "y_one_hot = y_one_hot.scatter(1, y_train.unsqueeze(1), 1)"
   ]
  },
  {
   "cell_type": "markdown",
   "metadata": {},
   "source": [
    "## Training with `F.cross_entropy`"
   ]
  },
  {
   "cell_type": "code",
   "execution_count": 8,
   "metadata": {},
   "outputs": [
    {
     "name": "stdout",
     "output_type": "stream",
     "text": [
      "Epoch    0/1000 Cost: 1.945910\n",
      "Epoch  100/1000 Cost: 0.471836\n",
      "Epoch  200/1000 Cost: 0.326327\n",
      "Epoch  300/1000 Cost: 0.257839\n",
      "Epoch  400/1000 Cost: 0.215762\n",
      "Epoch  500/1000 Cost: 0.186603\n",
      "Epoch  600/1000 Cost: 0.164898\n",
      "Epoch  700/1000 Cost: 0.147955\n",
      "Epoch  800/1000 Cost: 0.134279\n",
      "Epoch  900/1000 Cost: 0.122962\n",
      "Epoch 1000/1000 Cost: 0.113422\n"
     ]
    }
   ],
   "source": [
    "W = torch.zeros((16, 7), requires_grad=True)\n",
    "b = torch.zeros(1, requires_grad=True)\n",
    "\n",
    "optimizer = optim.SGD([W, b], lr=0.1)\n",
    "\n",
    "nb_epochs = 1000\n",
    "for epoch in range(nb_epochs + 1):\n",
    "\n",
    "    # Cost calc (2)\n",
    "    z = x_train.matmul(W) + b # or .mm or @\n",
    "    cost = F.cross_entropy(z, y_train)\n",
    "\n",
    "    optimizer.zero_grad()\n",
    "    cost.backward()\n",
    "    optimizer.step()\n",
    "\n",
    "    if epoch % 100 == 0:\n",
    "        print('Epoch {:4d}/{} Cost: {:.6f}'.format(\n",
    "            epoch, nb_epochs, cost.item()\n",
    "        ))"
   ]
  },
  {
   "cell_type": "markdown",
   "metadata": {},
   "source": [
    "## High-level Implementation with `nn.Module`"
   ]
  },
  {
   "cell_type": "code",
   "execution_count": 9,
   "metadata": {},
   "outputs": [],
   "source": [
    "class SoftmaxClassifierModel(nn.Module):\n",
    "    def __init__(self):\n",
    "        super().__init__()\n",
    "        self.linear = nn.Linear(16, 7)\n",
    "    def forward(self, x):\n",
    "        return self.linear(x)"
   ]
  },
  {
   "cell_type": "code",
   "execution_count": 14,
   "metadata": {},
   "outputs": [],
   "source": [
    "model = SoftmaxClassifierModel()"
   ]
  },
  {
   "cell_type": "code",
   "execution_count": 18,
   "metadata": {},
   "outputs": [
    {
     "name": "stdout",
     "output_type": "stream",
     "text": [
      "Epoch    0/1000 Cost: 0.054918\n",
      "accuracy:  1.0\n",
      "Epoch  100/1000 Cost: 0.052531\n",
      "accuracy:  1.0\n",
      "Epoch  200/1000 Cost: 0.050344\n",
      "accuracy:  1.0\n",
      "Epoch  300/1000 Cost: 0.048333\n",
      "accuracy:  1.0\n",
      "Epoch  400/1000 Cost: 0.046478\n",
      "accuracy:  1.0\n",
      "Epoch  500/1000 Cost: 0.044761\n",
      "accuracy:  1.0\n",
      "Epoch  600/1000 Cost: 0.043168\n",
      "accuracy:  1.0\n",
      "Epoch  700/1000 Cost: 0.041685\n",
      "accuracy:  1.0\n",
      "Epoch  800/1000 Cost: 0.040302\n",
      "accuracy:  1.0\n",
      "Epoch  900/1000 Cost: 0.039009\n",
      "accuracy:  1.0\n",
      "Epoch 1000/1000 Cost: 0.037797\n",
      "accuracy:  1.0\n"
     ]
    }
   ],
   "source": [
    "# optimizer 설정\n",
    "optimizer = optim.SGD(model.parameters(), lr=0.1)\n",
    "\n",
    "nb_epochs = 1000\n",
    "for epoch in range(nb_epochs + 1):\n",
    "\n",
    "    # H(x) 계산\n",
    "    prediction = model(x_train)\n",
    "\n",
    "    # cost 계산\n",
    "    cost = F.cross_entropy(prediction, y_train)\n",
    "\n",
    "    # cost로 H(x) 개선\n",
    "    optimizer.zero_grad()\n",
    "    cost.backward()\n",
    "    optimizer.step()\n",
    "    \n",
    "    # 20번마다 로그 출력\n",
    "    if epoch % 100 == 0:\n",
    "        print('Epoch {:4d}/{} Cost: {:.6f}'.format(\n",
    "            epoch, nb_epochs, cost.item()\n",
    "        ))\n",
    "        check_accuracy(model, x_train, y_train)"
   ]
  },
  {
   "cell_type": "markdown",
   "metadata": {},
   "source": [
    "<div class=\"alert alert-warning\">\n",
    "    Should I display how many it got correct in the training set?\n",
    "</div>"
   ]
  },
  {
   "cell_type": "markdown",
   "metadata": {},
   "source": [
    "## Check correction rate"
   ]
  },
  {
   "cell_type": "code",
   "execution_count": 23,
   "metadata": {},
   "outputs": [],
   "source": [
    "def check_accuracy(model, x, y):\n",
    "    params = list(model.parameters())\n",
    "    W= params[0]\n",
    "    b = params[1]\n",
    "    #print(\"W: {}\\n b: {}\".format(W, b))\n",
    "\n",
    "    total = y.shape[0]\n",
    "    correct = 0\n",
    "\n",
    "    for i in range(total):\n",
    "        ansi=F.softmax(model(x[i]),dim=0)\n",
    "        if (ansi.argmax().item() == y[i].item()):\n",
    "            correct += 1\n",
    "        else:\n",
    "            print(\"wrong prediction at index: {}, wrong catagory: {} possibility: {:.3f}, while correct catagory: {} possibility:{:.3f}\"\n",
    "                .format(i,ansi.argmax().item(),ansi.max().item(),\n",
    "                        y[i].item(),ansi[y[i].item()].item()))\n",
    "    print(\"accuracy: {} ({}/{})\".format(correct/total, correct, total))"
   ]
  },
  {
   "cell_type": "markdown",
   "metadata": {},
   "source": [
    "Now, let's train on first half data, and test it on second half."
   ]
  },
  {
   "cell_type": "code",
   "execution_count": 27,
   "metadata": {},
   "outputs": [
    {
     "name": "stdout",
     "output_type": "stream",
     "text": [
      "Epoch    0/200 Cost: 1.910806\n",
      "wrong prediction at index: 1, wrong catagory: 0 possibility: 0.404, while correct catagory: 5 possibility:0.232\n",
      "wrong prediction at index: 2, wrong catagory: 0 possibility: 0.316, while correct catagory: 4 possibility:0.025\n",
      "wrong prediction at index: 3, wrong catagory: 0 possibility: 0.523, while correct catagory: 6 possibility:0.093\n",
      "wrong prediction at index: 6, wrong catagory: 5 possibility: 0.231, while correct catagory: 1 possibility:0.175\n",
      "wrong prediction at index: 7, wrong catagory: 0 possibility: 0.305, while correct catagory: 1 possibility:0.143\n",
      "wrong prediction at index: 8, wrong catagory: 0 possibility: 0.257, while correct catagory: 1 possibility:0.149\n",
      "wrong prediction at index: 9, wrong catagory: 0 possibility: 0.277, while correct catagory: 1 possibility:0.137\n",
      "wrong prediction at index: 10, wrong catagory: 6 possibility: 0.224, while correct catagory: 3 possibility:0.136\n",
      "wrong prediction at index: 11, wrong catagory: 6 possibility: 0.231, while correct catagory: 3 possibility:0.143\n",
      "wrong prediction at index: 12, wrong catagory: 1 possibility: 0.198, while correct catagory: 2 possibility:0.120\n",
      "wrong prediction at index: 16, wrong catagory: 2 possibility: 0.192, while correct catagory: 0 possibility:0.110\n",
      "wrong prediction at index: 21, wrong catagory: 0 possibility: 0.225, while correct catagory: 1 possibility:0.166\n",
      "wrong prediction at index: 22, wrong catagory: 0 possibility: 0.495, while correct catagory: 6 possibility:0.085\n",
      "wrong prediction at index: 23, wrong catagory: 6 possibility: 0.208, while correct catagory: 3 possibility:0.128\n",
      "wrong prediction at index: 24, wrong catagory: 2 possibility: 0.210, while correct catagory: 0 possibility:0.095\n",
      "wrong prediction at index: 25, wrong catagory: 5 possibility: 0.216, while correct catagory: 0 possibility:0.179\n",
      "wrong prediction at index: 26, wrong catagory: 6 possibility: 0.203, while correct catagory: 2 possibility:0.125\n",
      "wrong prediction at index: 27, wrong catagory: 1 possibility: 0.188, while correct catagory: 6 possibility:0.168\n",
      "wrong prediction at index: 28, wrong catagory: 0 possibility: 0.331, while correct catagory: 1 possibility:0.112\n",
      "wrong prediction at index: 29, wrong catagory: 0 possibility: 0.331, while correct catagory: 1 possibility:0.112\n",
      "wrong prediction at index: 30, wrong catagory: 6 possibility: 0.202, while correct catagory: 2 possibility:0.134\n",
      "wrong prediction at index: 31, wrong catagory: 5 possibility: 0.220, while correct catagory: 6 possibility:0.157\n",
      "wrong prediction at index: 32, wrong catagory: 6 possibility: 0.208, while correct catagory: 3 possibility:0.128\n",
      "wrong prediction at index: 33, wrong catagory: 0 possibility: 0.277, while correct catagory: 1 possibility:0.137\n",
      "wrong prediction at index: 34, wrong catagory: 5 possibility: 0.227, while correct catagory: 0 possibility:0.216\n",
      "wrong prediction at index: 35, wrong catagory: 0 possibility: 0.369, while correct catagory: 6 possibility:0.142\n",
      "wrong prediction at index: 36, wrong catagory: 1 possibility: 0.205, while correct catagory: 3 possibility:0.174\n",
      "wrong prediction at index: 37, wrong catagory: 0 possibility: 0.295, while correct catagory: 1 possibility:0.139\n",
      "wrong prediction at index: 38, wrong catagory: 0 possibility: 0.337, while correct catagory: 5 possibility:0.263\n",
      "wrong prediction at index: 39, wrong catagory: 0 possibility: 0.268, while correct catagory: 4 possibility:0.031\n",
      "wrong prediction at index: 40, wrong catagory: 0 possibility: 0.254, while correct catagory: 2 possibility:0.071\n",
      "wrong prediction at index: 41, wrong catagory: 0 possibility: 0.282, while correct catagory: 2 possibility:0.086\n",
      "wrong prediction at index: 42, wrong catagory: 6 possibility: 0.224, while correct catagory: 3 possibility:0.136\n",
      "wrong prediction at index: 45, wrong catagory: 0 possibility: 0.278, while correct catagory: 1 possibility:0.146\n",
      "wrong prediction at index: 46, wrong catagory: 5 possibility: 0.229, while correct catagory: 0 possibility:0.201\n",
      "wrong prediction at index: 47, wrong catagory: 0 possibility: 0.361, while correct catagory: 5 possibility:0.222\n",
      "wrong prediction at index: 49, wrong catagory: 5 possibility: 0.220, while correct catagory: 6 possibility:0.157\n",
      "wrong prediction at index: 50, wrong catagory: 0 possibility: 0.277, while correct catagory: 1 possibility:0.137\n",
      "accuracy: 0.2549019607843137 (13/51)\n",
      "Epoch   20/200 Cost: 0.798746\n",
      "wrong prediction at index: 2, wrong catagory: 0 possibility: 0.440, while correct catagory: 4 possibility:0.050\n",
      "wrong prediction at index: 3, wrong catagory: 0 possibility: 0.463, while correct catagory: 6 possibility:0.142\n",
      "wrong prediction at index: 12, wrong catagory: 1 possibility: 0.301, while correct catagory: 2 possibility:0.064\n",
      "wrong prediction at index: 22, wrong catagory: 0 possibility: 0.551, while correct catagory: 6 possibility:0.086\n",
      "wrong prediction at index: 26, wrong catagory: 3 possibility: 0.336, while correct catagory: 2 possibility:0.068\n",
      "wrong prediction at index: 27, wrong catagory: 3 possibility: 0.267, while correct catagory: 6 possibility:0.154\n",
      "wrong prediction at index: 30, wrong catagory: 1 possibility: 0.269, while correct catagory: 2 possibility:0.076\n",
      "wrong prediction at index: 31, wrong catagory: 1 possibility: 0.266, while correct catagory: 6 possibility:0.127\n",
      "wrong prediction at index: 35, wrong catagory: 5 possibility: 0.283, while correct catagory: 6 possibility:0.215\n",
      "wrong prediction at index: 39, wrong catagory: 0 possibility: 0.345, while correct catagory: 4 possibility:0.066\n",
      "wrong prediction at index: 40, wrong catagory: 0 possibility: 0.344, while correct catagory: 2 possibility:0.017\n",
      "wrong prediction at index: 41, wrong catagory: 0 possibility: 0.422, while correct catagory: 2 possibility:0.020\n",
      "wrong prediction at index: 49, wrong catagory: 1 possibility: 0.266, while correct catagory: 6 possibility:0.127\n",
      "accuracy: 0.7450980392156863 (38/51)\n",
      "Epoch   40/200 Cost: 0.518089\n",
      "wrong prediction at index: 2, wrong catagory: 0 possibility: 0.393, while correct catagory: 4 possibility:0.090\n",
      "wrong prediction at index: 3, wrong catagory: 5 possibility: 0.414, while correct catagory: 6 possibility:0.269\n",
      "wrong prediction at index: 12, wrong catagory: 1 possibility: 0.324, while correct catagory: 2 possibility:0.043\n",
      "wrong prediction at index: 22, wrong catagory: 5 possibility: 0.408, while correct catagory: 6 possibility:0.136\n",
      "wrong prediction at index: 26, wrong catagory: 3 possibility: 0.464, while correct catagory: 2 possibility:0.045\n",
      "wrong prediction at index: 27, wrong catagory: 3 possibility: 0.338, while correct catagory: 6 possibility:0.152\n",
      "wrong prediction at index: 30, wrong catagory: 1 possibility: 0.303, while correct catagory: 2 possibility:0.052\n",
      "wrong prediction at index: 31, wrong catagory: 1 possibility: 0.315, while correct catagory: 6 possibility:0.111\n",
      "wrong prediction at index: 39, wrong catagory: 0 possibility: 0.292, while correct catagory: 4 possibility:0.118\n",
      "wrong prediction at index: 40, wrong catagory: 0 possibility: 0.306, while correct catagory: 2 possibility:0.010\n",
      "wrong prediction at index: 41, wrong catagory: 0 possibility: 0.391, while correct catagory: 2 possibility:0.012\n",
      "wrong prediction at index: 49, wrong catagory: 1 possibility: 0.315, while correct catagory: 6 possibility:0.111\n",
      "accuracy: 0.7647058823529411 (39/51)\n",
      "Epoch   60/200 Cost: 0.388908\n",
      "wrong prediction at index: 2, wrong catagory: 0 possibility: 0.366, while correct catagory: 4 possibility:0.129\n",
      "wrong prediction at index: 3, wrong catagory: 5 possibility: 0.430, while correct catagory: 6 possibility:0.359\n",
      "wrong prediction at index: 12, wrong catagory: 3 possibility: 0.356, while correct catagory: 2 possibility:0.033\n",
      "wrong prediction at index: 22, wrong catagory: 5 possibility: 0.485, while correct catagory: 6 possibility:0.161\n",
      "wrong prediction at index: 26, wrong catagory: 3 possibility: 0.540, while correct catagory: 2 possibility:0.033\n",
      "wrong prediction at index: 27, wrong catagory: 3 possibility: 0.380, while correct catagory: 6 possibility:0.155\n",
      "wrong prediction at index: 30, wrong catagory: 1 possibility: 0.317, while correct catagory: 2 possibility:0.041\n",
      "wrong prediction at index: 31, wrong catagory: 1 possibility: 0.348, while correct catagory: 6 possibility:0.102\n",
      "wrong prediction at index: 39, wrong catagory: 0 possibility: 0.260, while correct catagory: 4 possibility:0.168\n",
      "wrong prediction at index: 40, wrong catagory: 1 possibility: 0.303, while correct catagory: 2 possibility:0.008\n",
      "wrong prediction at index: 41, wrong catagory: 0 possibility: 0.374, while correct catagory: 2 possibility:0.009\n",
      "wrong prediction at index: 49, wrong catagory: 1 possibility: 0.348, while correct catagory: 6 possibility:0.102\n",
      "accuracy: 0.7647058823529411 (39/51)\n",
      "Epoch   80/200 Cost: 0.315203\n",
      "wrong prediction at index: 2, wrong catagory: 0 possibility: 0.347, while correct catagory: 4 possibility:0.164\n",
      "wrong prediction at index: 12, wrong catagory: 3 possibility: 0.382, while correct catagory: 2 possibility:0.027\n",
      "wrong prediction at index: 22, wrong catagory: 5 possibility: 0.537, while correct catagory: 6 possibility:0.171\n",
      "wrong prediction at index: 26, wrong catagory: 3 possibility: 0.586, while correct catagory: 2 possibility:0.027\n",
      "wrong prediction at index: 27, wrong catagory: 3 possibility: 0.405, while correct catagory: 6 possibility:0.162\n",
      "wrong prediction at index: 30, wrong catagory: 3 possibility: 0.338, while correct catagory: 2 possibility:0.034\n",
      "wrong prediction at index: 31, wrong catagory: 1 possibility: 0.372, while correct catagory: 6 possibility:0.095\n",
      "wrong prediction at index: 39, wrong catagory: 0 possibility: 0.237, while correct catagory: 4 possibility:0.214\n",
      "wrong prediction at index: 40, wrong catagory: 1 possibility: 0.313, while correct catagory: 2 possibility:0.006\n",
      "wrong prediction at index: 41, wrong catagory: 0 possibility: 0.363, while correct catagory: 2 possibility:0.007\n",
      "wrong prediction at index: 49, wrong catagory: 1 possibility: 0.372, while correct catagory: 6 possibility:0.095\n",
      "accuracy: 0.7843137254901961 (40/51)\n",
      "Epoch  100/200 Cost: 0.266933\n",
      "wrong prediction at index: 2, wrong catagory: 0 possibility: 0.333, while correct catagory: 4 possibility:0.196\n",
      "wrong prediction at index: 12, wrong catagory: 3 possibility: 0.398, while correct catagory: 2 possibility:0.023\n",
      "wrong prediction at index: 22, wrong catagory: 5 possibility: 0.577, while correct catagory: 6 possibility:0.173\n",
      "wrong prediction at index: 26, wrong catagory: 3 possibility: 0.616, while correct catagory: 2 possibility:0.023\n",
      "wrong prediction at index: 27, wrong catagory: 3 possibility: 0.419, while correct catagory: 6 possibility:0.171\n",
      "wrong prediction at index: 30, wrong catagory: 3 possibility: 0.354, while correct catagory: 2 possibility:0.029\n",
      "wrong prediction at index: 31, wrong catagory: 1 possibility: 0.390, while correct catagory: 6 possibility:0.090\n",
      "wrong prediction at index: 40, wrong catagory: 1 possibility: 0.320, while correct catagory: 2 possibility:0.005\n",
      "wrong prediction at index: 41, wrong catagory: 0 possibility: 0.355, while correct catagory: 2 possibility:0.006\n",
      "wrong prediction at index: 49, wrong catagory: 1 possibility: 0.390, while correct catagory: 6 possibility:0.090\n",
      "accuracy: 0.803921568627451 (41/51)\n",
      "Epoch  120/200 Cost: 0.232432\n",
      "wrong prediction at index: 2, wrong catagory: 0 possibility: 0.321, while correct catagory: 4 possibility:0.225\n",
      "wrong prediction at index: 12, wrong catagory: 3 possibility: 0.408, while correct catagory: 2 possibility:0.020\n",
      "wrong prediction at index: 22, wrong catagory: 5 possibility: 0.609, while correct catagory: 6 possibility:0.171\n",
      "wrong prediction at index: 26, wrong catagory: 3 possibility: 0.637, while correct catagory: 2 possibility:0.020\n",
      "wrong prediction at index: 27, wrong catagory: 3 possibility: 0.428, while correct catagory: 6 possibility:0.180\n",
      "wrong prediction at index: 30, wrong catagory: 3 possibility: 0.366, while correct catagory: 2 possibility:0.026\n",
      "wrong prediction at index: 31, wrong catagory: 1 possibility: 0.404, while correct catagory: 6 possibility:0.087\n",
      "wrong prediction at index: 40, wrong catagory: 1 possibility: 0.325, while correct catagory: 2 possibility:0.005\n",
      "wrong prediction at index: 41, wrong catagory: 0 possibility: 0.349, while correct catagory: 2 possibility:0.005\n",
      "wrong prediction at index: 49, wrong catagory: 1 possibility: 0.404, while correct catagory: 6 possibility:0.087\n",
      "accuracy: 0.803921568627451 (41/51)\n",
      "Epoch  140/200 Cost: 0.206303\n",
      "wrong prediction at index: 2, wrong catagory: 0 possibility: 0.310, while correct catagory: 4 possibility:0.252\n",
      "wrong prediction at index: 12, wrong catagory: 3 possibility: 0.416, while correct catagory: 2 possibility:0.018\n",
      "wrong prediction at index: 22, wrong catagory: 5 possibility: 0.636, while correct catagory: 6 possibility:0.167\n",
      "wrong prediction at index: 26, wrong catagory: 3 possibility: 0.652, while correct catagory: 2 possibility:0.018\n",
      "wrong prediction at index: 27, wrong catagory: 3 possibility: 0.432, while correct catagory: 6 possibility:0.191\n",
      "wrong prediction at index: 30, wrong catagory: 3 possibility: 0.374, while correct catagory: 2 possibility:0.024\n",
      "wrong prediction at index: 31, wrong catagory: 1 possibility: 0.416, while correct catagory: 6 possibility:0.084\n",
      "wrong prediction at index: 40, wrong catagory: 1 possibility: 0.330, while correct catagory: 2 possibility:0.004\n",
      "wrong prediction at index: 41, wrong catagory: 0 possibility: 0.344, while correct catagory: 2 possibility:0.005\n",
      "wrong prediction at index: 49, wrong catagory: 1 possibility: 0.416, while correct catagory: 6 possibility:0.084\n",
      "accuracy: 0.803921568627451 (41/51)\n",
      "Epoch  160/200 Cost: 0.185695\n",
      "wrong prediction at index: 2, wrong catagory: 0 possibility: 0.301, while correct catagory: 4 possibility:0.277\n",
      "wrong prediction at index: 12, wrong catagory: 3 possibility: 0.421, while correct catagory: 2 possibility:0.017\n",
      "wrong prediction at index: 22, wrong catagory: 5 possibility: 0.659, while correct catagory: 6 possibility:0.161\n",
      "wrong prediction at index: 26, wrong catagory: 3 possibility: 0.664, while correct catagory: 2 possibility:0.016\n",
      "wrong prediction at index: 27, wrong catagory: 3 possibility: 0.434, while correct catagory: 6 possibility:0.202\n",
      "wrong prediction at index: 30, wrong catagory: 3 possibility: 0.379, while correct catagory: 2 possibility:0.022\n",
      "wrong prediction at index: 31, wrong catagory: 1 possibility: 0.425, while correct catagory: 6 possibility:0.082\n",
      "wrong prediction at index: 40, wrong catagory: 1 possibility: 0.335, while correct catagory: 2 possibility:0.004\n",
      "wrong prediction at index: 41, wrong catagory: 0 possibility: 0.339, while correct catagory: 2 possibility:0.004\n",
      "wrong prediction at index: 49, wrong catagory: 1 possibility: 0.425, while correct catagory: 6 possibility:0.082\n",
      "accuracy: 0.803921568627451 (41/51)\n",
      "Epoch  180/200 Cost: 0.168950\n",
      "wrong prediction at index: 12, wrong catagory: 3 possibility: 0.425, while correct catagory: 2 possibility:0.016\n",
      "wrong prediction at index: 22, wrong catagory: 5 possibility: 0.680, while correct catagory: 6 possibility:0.154\n",
      "wrong prediction at index: 26, wrong catagory: 3 possibility: 0.673, while correct catagory: 2 possibility:0.015\n",
      "wrong prediction at index: 27, wrong catagory: 3 possibility: 0.434, while correct catagory: 6 possibility:0.213\n",
      "wrong prediction at index: 30, wrong catagory: 3 possibility: 0.384, while correct catagory: 2 possibility:0.020\n",
      "wrong prediction at index: 31, wrong catagory: 1 possibility: 0.433, while correct catagory: 6 possibility:0.081\n",
      "wrong prediction at index: 40, wrong catagory: 1 possibility: 0.339, while correct catagory: 2 possibility:0.003\n",
      "wrong prediction at index: 41, wrong catagory: 0 possibility: 0.335, while correct catagory: 2 possibility:0.004\n",
      "wrong prediction at index: 49, wrong catagory: 1 possibility: 0.433, while correct catagory: 6 possibility:0.081\n",
      "accuracy: 0.8235294117647058 (42/51)\n",
      "Epoch  200/200 Cost: 0.155031\n",
      "wrong prediction at index: 12, wrong catagory: 3 possibility: 0.428, while correct catagory: 2 possibility:0.015\n",
      "wrong prediction at index: 22, wrong catagory: 5 possibility: 0.699, while correct catagory: 6 possibility:0.148\n",
      "wrong prediction at index: 26, wrong catagory: 3 possibility: 0.681, while correct catagory: 2 possibility:0.014\n",
      "wrong prediction at index: 27, wrong catagory: 3 possibility: 0.432, while correct catagory: 6 possibility:0.225\n",
      "wrong prediction at index: 30, wrong catagory: 3 possibility: 0.388, while correct catagory: 2 possibility:0.019\n",
      "wrong prediction at index: 31, wrong catagory: 1 possibility: 0.440, while correct catagory: 6 possibility:0.080\n",
      "wrong prediction at index: 40, wrong catagory: 1 possibility: 0.343, while correct catagory: 2 possibility:0.003\n",
      "wrong prediction at index: 41, wrong catagory: 0 possibility: 0.331, while correct catagory: 2 possibility:0.004\n",
      "wrong prediction at index: 49, wrong catagory: 1 possibility: 0.440, while correct catagory: 6 possibility:0.080\n",
      "accuracy: 0.8235294117647058 (42/51)\n"
     ]
    }
   ],
   "source": [
    "x_train = torch.FloatTensor(xy[:50, 0:-1])\n",
    "y_train = torch.LongTensor(xy[:50, [-1]]).squeeze()\n",
    "model = SoftmaxClassifierModel()\n",
    "# optimizer 설정\n",
    "optimizer = optim.SGD(model.parameters(), lr=0.1)\n",
    "\n",
    "nb_epochs = 200\n",
    "for epoch in range(nb_epochs + 1):\n",
    "\n",
    "    # H(x) 계산\n",
    "    prediction = model(x_train)\n",
    "\n",
    "    # cost 계산\n",
    "    cost = F.cross_entropy(prediction, y_train)\n",
    "\n",
    "    # cost로 H(x) 개선\n",
    "    optimizer.zero_grad()\n",
    "    cost.backward()\n",
    "    optimizer.step()\n",
    "    \n",
    "    # 20번마다 로그 출력\n",
    "    if epoch % 20 == 0:\n",
    "        print('Epoch {:4d}/{} Cost: {:.6f}'.format(\n",
    "            epoch, nb_epochs, cost.item()\n",
    "        ))\n",
    "        check_accuracy(model, torch.FloatTensor(xy[50:, 0:-1]), torch.LongTensor(xy[50:, [-1]]).squeeze())"
   ]
  }
 ],
 "metadata": {
  "kernelspec": {
   "display_name": "Python 3",
   "language": "python",
   "name": "python3"
  },
  "language_info": {
   "codemirror_mode": {
    "name": "ipython",
    "version": 3
   },
   "file_extension": ".py",
   "mimetype": "text/x-python",
   "name": "python",
   "nbconvert_exporter": "python",
   "pygments_lexer": "ipython3",
   "version": "3.11.11"
  }
 },
 "nbformat": 4,
 "nbformat_minor": 2
}
